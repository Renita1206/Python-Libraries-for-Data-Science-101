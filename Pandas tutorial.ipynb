{
 "cells": [
  {
   "cell_type": "code",
   "execution_count": 1,
   "id": "34818978",
   "metadata": {},
   "outputs": [],
   "source": [
    "import numpy as np\n",
    "import pandas as pd"
   ]
  },
  {
   "cell_type": "code",
   "execution_count": 30,
   "id": "8b1c0821",
   "metadata": {},
   "outputs": [
    {
     "name": "stdout",
     "output_type": "stream",
     "text": [
      "   month  avg_high  avg_low  record_high  record_low  avg_precipitation\n",
      "0    Jan        58       42           74          22               2.95\n",
      "1    Feb        61       45           78          26               3.02\n",
      "2    Mar        65       48           84          25               2.34\n",
      "3    Apr        67       50           92          28               1.02\n",
      "4    May        71       53           98          35               0.48\n",
      "5    Jun        75       56          107          41               0.11\n",
      "6    Jul        77       58          105          44               0.00\n",
      "7    Aug        77       59          102          43               0.03\n",
      "8    Sep        77       57          103          40               0.17\n",
      "9    Oct        73       54           96          34               0.81\n",
      "10   Nov        64       48           84          30               1.70\n",
      "11   Dec        58       42           73          21               2.56\n"
     ]
    }
   ],
   "source": [
    "filename=\"weather.txt\"\n",
    "#df=pd.DataFrame(nested lists, index=[], columns=[list of column names])\n",
    "df= pd.read_csv(filename)\n",
    "print(df)"
   ]
  },
  {
   "cell_type": "code",
   "execution_count": 8,
   "id": "b5e75d45",
   "metadata": {},
   "outputs": [
    {
     "name": "stdout",
     "output_type": "stream",
     "text": [
      "  month  avg_high  avg_low  record_high  record_low  avg_precipitation\n",
      "0   Jan        58       42           74          22               2.95\n",
      "1   Feb        61       45           78          26               3.02\n",
      "2   Mar        65       48           84          25               2.34\n",
      "3   Apr        67       50           92          28               1.02\n",
      "4   May        71       53           98          35               0.48\n",
      "\n",
      "   month  avg_high  avg_low  record_high  record_low  avg_precipitation\n",
      "9    Oct        73       54           96          34               0.81\n",
      "10   Nov        64       48           84          30               1.70\n",
      "11   Dec        58       42           73          21               2.56\n"
     ]
    }
   ],
   "source": [
    "print(df.head(5)) #first 5 rows\n",
    "print()\n",
    "print(df.tail(3)) #last 3 rows"
   ]
  },
  {
   "cell_type": "code",
   "execution_count": 9,
   "id": "8c34acf5",
   "metadata": {},
   "outputs": [
    {
     "name": "stdout",
     "output_type": "stream",
     "text": [
      "month                 object\n",
      "avg_high               int64\n",
      "avg_low                int64\n",
      "record_high            int64\n",
      "record_low             int64\n",
      "avg_precipitation    float64\n",
      "dtype: object\n",
      "RangeIndex(start=0, stop=12, step=1)\n",
      "Index(['month', 'avg_high', 'avg_low', 'record_high', 'record_low',\n",
      "       'avg_precipitation'],\n",
      "      dtype='object')\n",
      "[['Jan' 58 42 74 22 2.95]\n",
      " ['Feb' 61 45 78 26 3.02]\n",
      " ['Mar' 65 48 84 25 2.34]\n",
      " ['Apr' 67 50 92 28 1.02]\n",
      " ['May' 71 53 98 35 0.48]\n",
      " ['Jun' 75 56 107 41 0.11]\n",
      " ['Jul' 77 58 105 44 0.0]\n",
      " ['Aug' 77 59 102 43 0.03]\n",
      " ['Sep' 77 57 103 40 0.17]\n",
      " ['Oct' 73 54 96 34 0.81]\n",
      " ['Nov' 64 48 84 30 1.7]\n",
      " ['Dec' 58 42 73 21 2.56]]\n"
     ]
    }
   ],
   "source": [
    "print(df.dtypes)\n",
    "print(df.index)\n",
    "print(df.columns)\n",
    "print(df.values)"
   ]
  },
  {
   "cell_type": "code",
   "execution_count": 11,
   "id": "15d94ca1",
   "metadata": {},
   "outputs": [
    {
     "name": "stdout",
     "output_type": "stream",
     "text": [
      "        avg_high    avg_low  record_high  record_low  avg_precipitation\n",
      "count  12.000000  12.000000    12.000000   12.000000          12.000000\n",
      "mean   68.583333  51.000000    91.333333   32.416667           1.265833\n",
      "std     7.366488   6.060303    12.323911    8.240238           1.186396\n",
      "min    58.000000  42.000000    73.000000   21.000000           0.000000\n",
      "25%    63.250000  47.250000    82.500000   25.750000           0.155000\n",
      "50%    69.000000  51.500000    94.000000   32.000000           0.915000\n",
      "75%    75.500000  56.250000   102.250000   40.250000           2.395000\n",
      "max    77.000000  59.000000   107.000000   44.000000           3.020000\n"
     ]
    }
   ],
   "source": [
    "print(df.describe()) #statistical summary"
   ]
  },
  {
   "cell_type": "code",
   "execution_count": 12,
   "id": "d21e3287",
   "metadata": {},
   "outputs": [
    {
     "name": "stdout",
     "output_type": "stream",
     "text": [
      "   month  avg_high  avg_low  record_high  record_low  avg_precipitation\n",
      "5    Jun        75       56          107          41               0.11\n",
      "6    Jul        77       58          105          44               0.00\n",
      "8    Sep        77       57          103          40               0.17\n",
      "7    Aug        77       59          102          43               0.03\n",
      "4    May        71       53           98          35               0.48\n",
      "9    Oct        73       54           96          34               0.81\n",
      "3    Apr        67       50           92          28               1.02\n",
      "2    Mar        65       48           84          25               2.34\n",
      "10   Nov        64       48           84          30               1.70\n",
      "1    Feb        61       45           78          26               3.02\n",
      "0    Jan        58       42           74          22               2.95\n",
      "11   Dec        58       42           73          21               2.56\n"
     ]
    }
   ],
   "source": [
    "#sorting by column record_high in descending order\n",
    "print(df.sort_values(\"record_high\",ascending=False))"
   ]
  },
  {
   "cell_type": "code",
   "execution_count": 16,
   "id": "64fd810c",
   "metadata": {},
   "outputs": [
    {
     "name": "stdout",
     "output_type": "stream",
     "text": [
      "0     Jan\n",
      "1     Feb\n",
      "2     Mar\n",
      "3     Apr\n",
      "4     May\n",
      "5     Jun\n",
      "6     Jul\n",
      "7     Aug\n",
      "8     Sep\n",
      "9     Oct\n",
      "10    Nov\n",
      "11    Dec\n",
      "Name: month, dtype: object\n",
      "   month  avg_low\n",
      "0    Jan       42\n",
      "1    Feb       45\n",
      "2    Mar       48\n",
      "3    Apr       50\n",
      "4    May       53\n",
      "5    Jun       56\n",
      "6    Jul       58\n",
      "7    Aug       59\n",
      "8    Sep       57\n",
      "9    Oct       54\n",
      "10   Nov       48\n",
      "11   Dec       42\n"
     ]
    }
   ],
   "source": [
    "print(df[\"month\"])\n",
    "# or this print(df.month) \n",
    "print(df[[\"month\",\"avg_low\"]]) #printing 2 columns"
   ]
  },
  {
   "cell_type": "code",
   "execution_count": 17,
   "id": "e5f6f2d4",
   "metadata": {},
   "outputs": [
    {
     "name": "stdout",
     "output_type": "stream",
     "text": [
      "  month  avg_high  avg_low  record_high  record_low  avg_precipitation\n",
      "2   Mar        65       48           84          25               2.34\n",
      "3   Apr        67       50           92          28               1.02\n",
      "4   May        71       53           98          35               0.48\n"
     ]
    }
   ],
   "source": [
    "print(df[2:5]) #rows 2,3 and 4"
   ]
  },
  {
   "cell_type": "code",
   "execution_count": 20,
   "id": "5d8e3982",
   "metadata": {},
   "outputs": [
    {
     "name": "stdout",
     "output_type": "stream",
     "text": [
      "  month  avg_low\n",
      "2   Mar       48\n",
      "3   Apr       50\n",
      "4   May       53\n",
      "5   Jun       56\n",
      "\n",
      "month      Jul\n",
      "avg_low     58\n",
      "Name: 6, dtype: object\n"
     ]
    }
   ],
   "source": [
    "print(df.loc[2:5,[\"month\",\"avg_low\"]]) #rows 2 to 5 but only specified columns\n",
    "print()\n",
    "print(df.loc[6,[\"month\",\"avg_low\"]]) #to get specified columns of row with index 6"
   ]
  },
  {
   "cell_type": "code",
   "execution_count": 24,
   "id": "8d1d8fd8",
   "metadata": {},
   "outputs": [
    {
     "name": "stdout",
     "output_type": "stream",
     "text": [
      "  month  record_high\n",
      "3   Apr           92\n",
      "4   May           98\n",
      "\n",
      "month          Apr\n",
      "record_high     92\n",
      "Name: 3, dtype: object\n"
     ]
    }
   ],
   "source": [
    "print(df.iloc[3:5,[0,3]])\n",
    "print()\n",
    "print(df.iloc[3,[0,3]])"
   ]
  },
  {
   "cell_type": "code",
   "execution_count": 27,
   "id": "0d38eab0",
   "metadata": {},
   "outputs": [
    {
     "name": "stdout",
     "output_type": "stream",
     "text": [
      "   month  avg_high  avg_low  record_high  record_low  avg_precipitation\n",
      "0    Jan        58       42           74          22               2.95\n",
      "1    Feb        61       45           78          26               3.02\n",
      "2    Mar        65       48           84          25               2.34\n",
      "3    Apr        67       50           92          28               1.02\n",
      "10   Nov        64       48           84          30               1.70\n",
      "11   Dec        58       42           73          21               2.56\n",
      "\n",
      "  month  avg_high  avg_low  record_high  record_low  avg_precipitation\n",
      "5   Jun        75       56          107          41               0.11\n",
      "6   Jul        77       58          105          44               0.00\n"
     ]
    }
   ],
   "source": [
    "#filtering\n",
    "print(df[df.avg_precipitation >1.0])\n",
    "print()\n",
    "print(df[df[\"month\"].isin([\"Jun\",\"Jul\"])])"
   ]
  },
  {
   "cell_type": "code",
   "execution_count": 31,
   "id": "50ee02ab",
   "metadata": {},
   "outputs": [
    {
     "name": "stdout",
     "output_type": "stream",
     "text": [
      "   month  avg_high  avg_low  record_high  record_low  avg_precipitation\n",
      "0    Jan        58       42           74          22               2.95\n",
      "1    Feb        61       45           78          26               3.02\n",
      "2    Mar        65       48           84          25               2.34\n",
      "3    Apr        67       50           92          28               1.02\n",
      "4    May        71       53           98          35               0.48\n",
      "5    Jun        75       56          107          41               0.11\n",
      "6    Jul        77       58          105          44               0.00\n",
      "7    Aug        77       59          102          43               0.03\n",
      "8    Sep        77       57          103          40               0.17\n",
      "9    Oct        73       54           96          34               0.81\n",
      "10   Nov        64       48           84          30               3.00\n",
      "11   Dec        58       42           73          21               3.00\n",
      "\n",
      "   month  avg_high  avg_low  record_high  record_low  avg_precipitation\n",
      "0    Jan        58       42           74          22                NaN\n",
      "1    Feb        61       45           78          26                NaN\n",
      "2    Mar        65       48           84          25                NaN\n",
      "3    Apr        67       50           92          28                NaN\n",
      "4    May        71       53           98          35                NaN\n",
      "5    Jun        75       56          107          41                NaN\n",
      "6    Jul        77       58          105          44                NaN\n",
      "7    Aug        77       59          102          43                NaN\n",
      "8    Sep        77       57          103          40                NaN\n",
      "9    Oct        73       54           96          34                NaN\n",
      "10   Nov        64       48           84          30                NaN\n",
      "11   Dec        58       42           73          21                NaN\n",
      "\n",
      "   month  avg_high  avg_low  record_high  record_low  avg_precipitation  \\\n",
      "0    Jan        58       42           74          22                NaN   \n",
      "1    Feb        61       45           78          26                NaN   \n",
      "2    Mar        65       48           84          25                NaN   \n",
      "3    Apr        67       50           92          28                NaN   \n",
      "4    May        71       53           98          35                NaN   \n",
      "5    Jun        75       56          107          41                NaN   \n",
      "6    Jul        77       58          105          44                NaN   \n",
      "7    Aug        77       59          102          43                NaN   \n",
      "8    Sep        77       57          103          40                NaN   \n",
      "9    Oct        73       54           96          34                NaN   \n",
      "10   Nov        64       48           84          30                NaN   \n",
      "11   Dec        58       42           73          21                NaN   \n",
      "\n",
      "    avg_day  \n",
      "0      50.0  \n",
      "1      53.0  \n",
      "2      56.5  \n",
      "3      58.5  \n",
      "4      62.0  \n",
      "5      65.5  \n",
      "6      67.5  \n",
      "7      68.0  \n",
      "8      67.0  \n",
      "9      63.5  \n",
      "10     56.0  \n",
      "11     50.0  \n"
     ]
    }
   ],
   "source": [
    "#assignment\n",
    "df.loc[10:,[\"avg_precipitation\"]]=3.0\n",
    "print(df)\n",
    "print()\n",
    "#np.nan means not a number\n",
    "df.loc[:,[\"avg_precipitation\"]]=np.nan\n",
    "print(df)\n",
    "print()\n",
    "#create a new column avg_day and assign a value\n",
    "df[\"avg_day\"]=(df.avg_low+df.avg_high)/2\n",
    "print(df)"
   ]
  },
  {
   "cell_type": "code",
   "execution_count": 33,
   "id": "6faf4f00",
   "metadata": {},
   "outputs": [
    {
     "name": "stdout",
     "output_type": "stream",
     "text": [
      "  month  avg_high  avg_low  record_high  record_low  avg_rain  avg_day\n",
      "0   Jan        58       42           74          22       NaN     50.0\n",
      "1   Feb        61       45           78          26       NaN     53.0\n",
      "2   Mar        65       48           84          25       NaN     56.5\n",
      "3   Apr        67       50           92          28       NaN     58.5\n",
      "4   May        71       53           98          35       NaN     62.0\n"
     ]
    }
   ],
   "source": [
    "#renaming column name\n",
    "df=df.rename(columns = {\"avg_precipitation\": \"avg_rain\"})\n",
    "print(df.head())\n",
    "\n",
    "#to change all column names\n",
    "#columns=[list of column names]"
   ]
  },
  {
   "cell_type": "code",
   "execution_count": 35,
   "id": "f14c6564",
   "metadata": {},
   "outputs": [],
   "source": [
    "#to save dataframe into a file\n",
    "df.to_csv(\"weather modified.csv\")\n",
    "\n",
    "#can also be saved in other formats"
   ]
  },
  {
   "cell_type": "code",
   "execution_count": null,
   "id": "ce6f3d1b",
   "metadata": {},
   "outputs": [],
   "source": []
  }
 ],
 "metadata": {
  "kernelspec": {
   "display_name": "Python 3",
   "language": "python",
   "name": "python3"
  },
  "language_info": {
   "codemirror_mode": {
    "name": "ipython",
    "version": 3
   },
   "file_extension": ".py",
   "mimetype": "text/x-python",
   "name": "python",
   "nbconvert_exporter": "python",
   "pygments_lexer": "ipython3",
   "version": "3.8.8"
  }
 },
 "nbformat": 4,
 "nbformat_minor": 5
}
