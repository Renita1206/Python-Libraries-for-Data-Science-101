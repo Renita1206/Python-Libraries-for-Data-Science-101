{
 "cells": [
  {
   "cell_type": "code",
   "execution_count": 1,
   "id": "5d7c7727",
   "metadata": {},
   "outputs": [],
   "source": [
    "import numpy as np"
   ]
  },
  {
   "cell_type": "code",
   "execution_count": 9,
   "id": "c972ff8b",
   "metadata": {
    "scrolled": false
   },
   "outputs": [
    {
     "name": "stdout",
     "output_type": "stream",
     "text": [
      "[[1 2 3 4 5]\n",
      " [1 2 3 4 5]]\n",
      "[1 3 5 7 9]\n",
      "[1.  1.4 1.8 2.2 2.6 3. ]\n",
      "[1 2 3]\n",
      "[[0. 0.]\n",
      " [0. 0.]]\n",
      "[[1. 1.]\n",
      " [1. 1.]]\n",
      "[[10 10]\n",
      " [10 10]]\n",
      "[[0 0]\n",
      " [0 0]]\n"
     ]
    },
    {
     "name": "stderr",
     "output_type": "stream",
     "text": [
      "<ipython-input-9-87ba8c32cb87>:8: DeprecationWarning: `np.int` is a deprecated alias for the builtin `int`. To silence this warning, use `int` by itself. Doing this will not modify any behavior and is safe. When replacing `np.int`, you may wish to use e.g. `np.int64` or `np.int32` to specify the precision. If you wish to review your current use, check the release note link for additional information.\n",
      "Deprecated in NumPy 1.20; for more details and guidance: https://numpy.org/devdocs/release/1.20.0-notes.html#deprecations\n",
      "  a=np.fromstring(\"1 2 3\",dtype=np.int, sep=\" \")\n"
     ]
    }
   ],
   "source": [
    "#initialising an array\n",
    "a=np.array([[1,2,3,4,5],[1,2,3,4,5]])\n",
    "print(a)\n",
    "a=np.arange(1,10,2) # like range function\n",
    "print(a)\n",
    "#a=np.arange(1,10,2,dtype=int8) -> dtype to specify the datatype and size\n",
    "a=np.linspace(1,3,6) #similar to range but (start,stop,no of items)\n",
    "print(a)\n",
    "a=np.fromstring(\"1 2 3\",dtype=np.int, sep=\" \")\n",
    "print(a)\n",
    "a=np.zeros((2,2)) # matrix of zeros -> (columns,rows)\n",
    "print(a)\n",
    "a=np.ones((2,2)) # matrix of ones -> (columns,rows)\n",
    "print(a)\n",
    "a=np.full((2,2),10) # matrix of x -> (columns,rows),x\n",
    "print(a)\n",
    "b=np.zeros_like(a) # zero matrix with dimensions of a\n",
    "print(b)"
   ]
  },
  {
   "cell_type": "code",
   "execution_count": 11,
   "id": "7e34c180",
   "metadata": {},
   "outputs": [
    {
     "name": "stdout",
     "output_type": "stream",
     "text": [
      "4\n",
      "(2, 2)\n",
      "2\n",
      "4\n",
      "int32\n",
      "16\n"
     ]
    }
   ],
   "source": [
    "print(a.size)\n",
    "print(a.shape) #dimensions\n",
    "print(a.ndim) #no of dimensions\n",
    "print(a.itemsize) # size of element\n",
    "print(a.dtype) #datatype\n",
    "print(a.nbytes) # size of entire array"
   ]
  },
  {
   "cell_type": "code",
   "execution_count": 15,
   "id": "2a7a197e",
   "metadata": {},
   "outputs": [
    {
     "name": "stdout",
     "output_type": "stream",
     "text": [
      "[10 10]\n",
      "10\n",
      "[[10 10]]\n",
      "[[10]\n",
      " [10]]\n"
     ]
    }
   ],
   "source": [
    "#list functions\n",
    "print(a[1])\n",
    "print(a[1][1])\n",
    "print(a[0:1]) #slicing\n",
    "print(a[:,0:1]) #2d slicing"
   ]
  },
  {
   "cell_type": "markdown",
   "id": "bed54ddc",
   "metadata": {},
   "source": [
    "a=np.array([[1,3,5,7,9,11],[1,2,3,4,5,6],[7,8,9,10,11,12]])\n",
    "\n",
    "print(a>4)\n",
    "print(a*10)"
   ]
  },
  {
   "cell_type": "markdown",
   "id": "ec23c7fd",
   "metadata": {},
   "source": [
    "print(a.min())\n",
    "print(a.sum())\n",
    "print(a.mean())\n",
    "print(a.var())\n",
    "print(a.std())\n",
    "print(a.argmax()) #returns the index of max element\n",
    "print(a.argmin()) #returns the index of min element\n",
    "print(a.argsort()) #array of indices for sorted array"
   ]
  },
  {
   "cell_type": "code",
   "execution_count": 27,
   "id": "8ef9255d",
   "metadata": {},
   "outputs": [
    {
     "name": "stdout",
     "output_type": "stream",
     "text": [
      "[[5033]\n",
      " [3033]\n",
      " [9033]]\n",
      "\n",
      "[[    1     3 50330     7     9    11]\n",
      " [    1     2 30330     4     5     6]\n",
      " [    7     8 90330    10    11    12]]\n",
      "\n",
      "[[    1     3 50333     7     9    11]\n",
      " [    1     2 30333     4     5     6]\n",
      " [    7     8 90333    10    11    12]]\n"
     ]
    }
   ],
   "source": [
    "print(a[:,2:3]) # to get column 2\n",
    "print()\n",
    "c = a[:,2:3] # pointer to original column in a, changes to c reflect in array\n",
    "c*=10 # values in 2nd column of array multiplied by 10\n",
    "print(a)\n",
    "print()\n",
    "c+=3\n",
    "print(a)"
   ]
  },
  {
   "cell_type": "code",
   "execution_count": 28,
   "id": "1a4c22f1",
   "metadata": {},
   "outputs": [
    {
     "name": "stdout",
     "output_type": "stream",
     "text": [
      "[0.24010161 0.89867266 0.83163758 0.01376242 0.74396202 0.30642202]\n",
      "[17 45 66 54]\n",
      "66\n",
      "[54 66 17 45]\n",
      "[17 45 54 66]\n"
     ]
    }
   ],
   "source": [
    "#numpy random functions\n",
    "r=np.random.random(6)\n",
    "print(r)\n",
    "r=np.random.randint(6,100,4) #lower and inclusive upper limit, size\n",
    "print(r)\n",
    "print(np.random.choice(r))\n",
    "np.random.shuffle(r)\n",
    "print(r)\n",
    "r.sort()\n",
    "print(r)"
   ]
  },
  {
   "cell_type": "code",
   "execution_count": null,
   "id": "9f4eaf2d",
   "metadata": {},
   "outputs": [],
   "source": [
    "#Reshape, Swap Axes, Flatten\n",
    "c = np.arange(-9, -3,).reshape(2,3)\n",
    "print(c)\n",
    "\n",
    "c = c.swapaxes(0,1)\n",
    "print(c)\n",
    "\n",
    "c = c.flatten()\n",
    "print(c)"
   ]
  },
  {
   "cell_type": "code",
   "execution_count": null,
   "id": "1f66680f",
   "metadata": {},
   "outputs": [],
   "source": [
    "#UpCasting, Rounding, Print Formatting\n",
    "e = np.array([(1.566666,2,3), (4,5,6)])\n",
    "print(e.dtype)\n",
    "\n",
    "e = e.round(4)\n",
    "print(e)\n",
    "\n",
    "np.set_printoptions(precision=2, suppress=True)    # show 2 decimal places, suppress scientific notation\n",
    "print(e)"
   ]
  }
 ],
 "metadata": {
  "kernelspec": {
   "display_name": "Python 3",
   "language": "python",
   "name": "python3"
  },
  "language_info": {
   "codemirror_mode": {
    "name": "ipython",
    "version": 3
   },
   "file_extension": ".py",
   "mimetype": "text/x-python",
   "name": "python",
   "nbconvert_exporter": "python",
   "pygments_lexer": "ipython3",
   "version": "3.8.8"
  }
 },
 "nbformat": 4,
 "nbformat_minor": 5
}
